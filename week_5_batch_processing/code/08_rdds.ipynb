{
 "cells": [
  {
   "cell_type": "code",
   "execution_count": 1,
   "id": "d66f42fd",
   "metadata": {},
   "outputs": [],
   "source": [
    "import pyspark\n",
    "from pyspark.sql import SparkSession\n",
    "\n",
    "spark = SparkSession.builder \\\n",
    "    .master(\"local[*]\") \\\n",
    "    .appName('test') \\\n",
    "    .getOrCreate()"
   ]
  },
  {
   "cell_type": "code",
   "execution_count": 17,
   "id": "646fc343",
   "metadata": {},
   "outputs": [],
   "source": [
    "df_green = spark.read.parquet('data/pq/green/*/*')"
   ]
  },
  {
   "cell_type": "markdown",
   "id": "196cccd5",
   "metadata": {},
   "source": [
    "```\n",
    "SELECT \n",
    "    date_trunc('hour', lpep_pickup_datetime) AS hour, \n",
    "    PULocationID AS zone,\n",
    "\n",
    "    SUM(total_amount) AS amount,\n",
    "    COUNT(1) AS number_records\n",
    "FROM\n",
    "    green\n",
    "WHERE\n",
    "    lpep_pickup_datetime >= '2020-01-01 00:00:00'\n",
    "GROUP BY\n",
    "    1, 2\n",
    "```"
   ]
  },
  {
   "cell_type": "code",
   "execution_count": 6,
   "id": "74fe52cb",
   "metadata": {
    "scrolled": true
   },
   "outputs": [],
   "source": [
    "rdd = df_green \\\n",
    "    .select('lpep_pickup_datetime', 'PULocationID', 'total_amount') \\\n",
    "    .rdd"
   ]
  },
  {
   "cell_type": "code",
   "execution_count": 7,
   "id": "1a0bf382",
   "metadata": {},
   "outputs": [],
   "source": [
    "from datetime import datetime"
   ]
  },
  {
   "cell_type": "code",
   "execution_count": 8,
   "id": "fa2b00f1",
   "metadata": {},
   "outputs": [],
   "source": [
    "start = datetime(year=2020, month=1, day=1)\n",
    "\n",
    "def filter_outliers(row):\n",
    "    return row.lpep_pickup_datetime >= start"
   ]
  },
  {
   "cell_type": "code",
   "execution_count": 13,
   "id": "33bcb4c6-642d-474b-b82b-3928dc062673",
   "metadata": {},
   "outputs": [
    {
     "data": {
      "text/plain": [
       "[Row(lpep_pickup_datetime=datetime.datetime(2020, 1, 22, 13, 18, 32), PULocationID=244, total_amount=22.8)]"
      ]
     },
     "execution_count": 13,
     "metadata": {},
     "output_type": "execute_result"
    }
   ],
   "source": [
    "rdd.filter(filter_outliers).take(1)"
   ]
  },
  {
   "cell_type": "code",
   "execution_count": 15,
   "id": "69dd326d",
   "metadata": {},
   "outputs": [
    {
     "data": {
      "text/plain": [
       "Row(lpep_pickup_datetime=datetime.datetime(2020, 1, 22, 13, 18, 32), PULocationID=244, total_amount=22.8)"
      ]
     },
     "execution_count": 15,
     "metadata": {},
     "output_type": "execute_result"
    }
   ],
   "source": [
    "rows = rdd.take(10)\n",
    "row = rows[0]\n",
    "row"
   ]
  },
  {
   "cell_type": "code",
   "execution_count": 14,
   "id": "d99eb089",
   "metadata": {},
   "outputs": [],
   "source": [
    "def prepare_for_grouping(row): \n",
    "    hour = row.lpep_pickup_datetime.replace(minute=0, second=0, microsecond=0)\n",
    "    zone = row.PULocationID\n",
    "    key = (hour, zone)\n",
    "    \n",
    "    amount = row.total_amount\n",
    "    count = 1\n",
    "    value = (amount, count)\n",
    "\n",
    "    return (key, value)"
   ]
  },
  {
   "cell_type": "code",
   "execution_count": 16,
   "id": "30d56ffe-2d95-4bb3-ba57-607e947d6ed7",
   "metadata": {},
   "outputs": [
    {
     "data": {
      "text/plain": [
       "[((datetime.datetime(2020, 1, 22, 13, 0), 244), (22.8, 1))]"
      ]
     },
     "execution_count": 16,
     "metadata": {},
     "output_type": "execute_result"
    }
   ],
   "source": [
    "rdd.filter(prepare_for_grouping).map(prepare_for_grouping).take(1)"
   ]
  },
  {
   "cell_type": "code",
   "execution_count": 18,
   "id": "cb328a44",
   "metadata": {},
   "outputs": [],
   "source": [
    "def calculate_revenue(left_value, right_value):\n",
    "    left_amount, left_count = left_value\n",
    "    right_amount, right_count = right_value\n",
    "    \n",
    "    output_amount = left_amount + right_amount\n",
    "    output_count = left_count + right_count\n",
    "    \n",
    "    return (output_amount, output_count)"
   ]
  },
  {
   "cell_type": "code",
   "execution_count": 22,
   "id": "4764ffaf-7c5a-43ac-b1f5-2bd5841ce2a9",
   "metadata": {},
   "outputs": [
    {
     "data": {
      "text/plain": [
       "[((datetime.datetime(2020, 1, 18, 11, 0), 128), (33.51, 1)),\n",
       " ((datetime.datetime(2020, 1, 15, 21, 0), 42), (336.1400000000001, 23)),\n",
       " ((datetime.datetime(2020, 1, 19, 0, 0), 25), (142.75000000000003, 11)),\n",
       " ((datetime.datetime(2020, 1, 24, 19, 0), 166), (739.61, 48)),\n",
       " ((datetime.datetime(2020, 1, 17, 9, 0), 145), (175.59999999999997, 19)),\n",
       " ((datetime.datetime(2020, 1, 30, 20, 0), 129), (227.53999999999996, 11)),\n",
       " ((datetime.datetime(2020, 1, 2, 14, 0), 31), (23.16, 1)),\n",
       " ((datetime.datetime(2020, 1, 8, 9, 0), 171), (146.44, 4)),\n",
       " ((datetime.datetime(2020, 1, 7, 12, 0), 242), (306.8, 15)),\n",
       " ((datetime.datetime(2020, 1, 3, 18, 0), 74), (1733.4099999999992, 100))]"
      ]
     },
     "execution_count": 22,
     "metadata": {},
     "output_type": "execute_result"
    }
   ],
   "source": [
    "rdd.filter(prepare_for_grouping).map(prepare_for_grouping).reduceByKey(calculate_revenue).take(10)"
   ]
  },
  {
   "cell_type": "code",
   "execution_count": 23,
   "id": "2ea260f1",
   "metadata": {},
   "outputs": [],
   "source": [
    "from collections import namedtuple"
   ]
  },
  {
   "cell_type": "code",
   "execution_count": 24,
   "id": "7dae6064",
   "metadata": {},
   "outputs": [],
   "source": [
    "RevenueRow = namedtuple('RevenueRow', ['hour', 'zone', 'revenue', 'count'])"
   ]
  },
  {
   "cell_type": "code",
   "execution_count": 25,
   "id": "e0a98ee4",
   "metadata": {},
   "outputs": [],
   "source": [
    "def unwrap(row):\n",
    "    return RevenueRow(\n",
    "        hour=row[0][0], \n",
    "        zone=row[0][1],\n",
    "        revenue=row[1][0],\n",
    "        count=row[1][1]\n",
    "    )"
   ]
  },
  {
   "cell_type": "code",
   "execution_count": 26,
   "id": "b49367da-9696-4cdb-8349-00b139c7e3d1",
   "metadata": {},
   "outputs": [
    {
     "data": {
      "text/plain": [
       "[RevenueRow(hour=datetime.datetime(2020, 1, 18, 11, 0), zone=128, revenue=33.51, count=1),\n",
       " RevenueRow(hour=datetime.datetime(2020, 1, 15, 21, 0), zone=42, revenue=336.1400000000001, count=23),\n",
       " RevenueRow(hour=datetime.datetime(2020, 1, 19, 0, 0), zone=25, revenue=142.75000000000003, count=11),\n",
       " RevenueRow(hour=datetime.datetime(2020, 1, 24, 19, 0), zone=166, revenue=739.61, count=48),\n",
       " RevenueRow(hour=datetime.datetime(2020, 1, 17, 9, 0), zone=145, revenue=175.59999999999997, count=19),\n",
       " RevenueRow(hour=datetime.datetime(2020, 1, 30, 20, 0), zone=129, revenue=227.53999999999996, count=11),\n",
       " RevenueRow(hour=datetime.datetime(2020, 1, 2, 14, 0), zone=31, revenue=23.16, count=1),\n",
       " RevenueRow(hour=datetime.datetime(2020, 1, 8, 9, 0), zone=171, revenue=146.44, count=4),\n",
       " RevenueRow(hour=datetime.datetime(2020, 1, 7, 12, 0), zone=242, revenue=306.8, count=15),\n",
       " RevenueRow(hour=datetime.datetime(2020, 1, 3, 18, 0), zone=74, revenue=1733.4099999999992, count=100)]"
      ]
     },
     "execution_count": 26,
     "metadata": {},
     "output_type": "execute_result"
    }
   ],
   "source": [
    "rdd.filter(prepare_for_grouping).map(prepare_for_grouping).reduceByKey(calculate_revenue).map(unwrap).take(10)"
   ]
  },
  {
   "cell_type": "code",
   "execution_count": 27,
   "id": "a09200b8",
   "metadata": {},
   "outputs": [],
   "source": [
    "from pyspark.sql import types"
   ]
  },
  {
   "cell_type": "code",
   "execution_count": 28,
   "id": "5c14d15e",
   "metadata": {},
   "outputs": [],
   "source": [
    "result_schema = types.StructType([\n",
    "    types.StructField('hour', types.TimestampType(), True),\n",
    "    types.StructField('zone', types.IntegerType(), True),\n",
    "    types.StructField('revenue', types.DoubleType(), True),\n",
    "    types.StructField('count', types.IntegerType(), True)\n",
    "])"
   ]
  },
  {
   "cell_type": "code",
   "execution_count": 29,
   "id": "56ea72ff",
   "metadata": {},
   "outputs": [],
   "source": [
    "df_result = rdd \\\n",
    "    .filter(filter_outliers) \\\n",
    "    .map(prepare_for_grouping) \\\n",
    "    .reduceByKey(calculate_revenue) \\\n",
    "    .map(unwrap) \\\n",
    "    .toDF(result_schema) "
   ]
  },
  {
   "cell_type": "code",
   "execution_count": 30,
   "id": "c249ea1c-d5f4-4696-a3f4-d341849bbbc7",
   "metadata": {},
   "outputs": [
    {
     "name": "stdout",
     "output_type": "stream",
     "text": [
      "+-------------------+----+------------------+-----+\n",
      "|               hour|zone|           revenue|count|\n",
      "+-------------------+----+------------------+-----+\n",
      "|2020-01-18 11:00:00| 128|             33.51|    1|\n",
      "|2020-01-15 21:00:00|  42| 336.1400000000001|   23|\n",
      "|2020-01-19 00:00:00|  25|142.75000000000003|   11|\n",
      "|2020-01-24 19:00:00| 166|            739.61|   48|\n",
      "|2020-01-17 09:00:00| 145|175.59999999999997|   19|\n",
      "|2020-01-30 20:00:00| 129|227.53999999999996|   11|\n",
      "|2020-01-02 14:00:00|  31|             23.16|    1|\n",
      "|2020-01-08 09:00:00| 171|            146.44|    4|\n",
      "|2020-01-07 12:00:00| 242|             306.8|   15|\n",
      "|2020-01-03 18:00:00|  74|1733.4099999999992|  100|\n",
      "+-------------------+----+------------------+-----+\n",
      "only showing top 10 rows\n",
      "\n"
     ]
    }
   ],
   "source": [
    "df_result.show(10)"
   ]
  },
  {
   "cell_type": "code",
   "execution_count": 31,
   "id": "4675bd3f",
   "metadata": {},
   "outputs": [],
   "source": [
    "df_result.write.parquet('tmp/green-revenue')"
   ]
  },
  {
   "cell_type": "code",
   "execution_count": 32,
   "id": "255b5503",
   "metadata": {},
   "outputs": [],
   "source": [
    "columns = ['VendorID', 'lpep_pickup_datetime', 'PULocationID', 'DOLocationID', 'trip_distance']\n",
    "\n",
    "duration_rdd = df_green \\\n",
    "    .select(columns) \\\n",
    "    .rdd"
   ]
  },
  {
   "cell_type": "code",
   "execution_count": 33,
   "id": "645c3190",
   "metadata": {},
   "outputs": [],
   "source": [
    "import pandas as pd"
   ]
  },
  {
   "cell_type": "code",
   "execution_count": 34,
   "id": "921e4ef9",
   "metadata": {},
   "outputs": [],
   "source": [
    "rows = duration_rdd.take(10)"
   ]
  },
  {
   "cell_type": "code",
   "execution_count": 35,
   "id": "f50db3eb",
   "metadata": {},
   "outputs": [],
   "source": [
    "df = pd.DataFrame(rows, columns=columns)"
   ]
  },
  {
   "cell_type": "code",
   "execution_count": 37,
   "id": "5b8ecc53",
   "metadata": {},
   "outputs": [
    {
     "data": {
      "text/plain": [
       "['VendorID',\n",
       " 'lpep_pickup_datetime',\n",
       " 'PULocationID',\n",
       " 'DOLocationID',\n",
       " 'trip_distance']"
      ]
     },
     "execution_count": 37,
     "metadata": {},
     "output_type": "execute_result"
    }
   ],
   "source": [
    "columns"
   ]
  },
  {
   "cell_type": "code",
   "execution_count": 38,
   "id": "6766c0f8",
   "metadata": {},
   "outputs": [],
   "source": [
    "#model = ...\n",
    "\n",
    "def model_predict(df):\n",
    "#     y_pred = model.predict(df)\n",
    "    y_pred = df.trip_distance * 5\n",
    "    return y_pred"
   ]
  },
  {
   "cell_type": "code",
   "execution_count": 71,
   "id": "414640f2-3430-4111-b99c-37ab34605f17",
   "metadata": {},
   "outputs": [],
   "source": [
    "def inifinite_seq():\n",
    "    i = 0\n",
    "    while True:\n",
    "        if i>10:\n",
    "            break\n",
    "        yield i\n",
    "        i = i+1"
   ]
  },
  {
   "cell_type": "code",
   "execution_count": 74,
   "id": "9d5d0435-4bbc-49ac-8e30-bc659ffcb15a",
   "metadata": {},
   "outputs": [
    {
     "name": "stdout",
     "output_type": "stream",
     "text": [
      "0\n",
      "[1, 2, 3, 4, 5, 6, 7, 8, 9, 10]\n",
      "<generator object inifinite_seq at 0x00000275C73318C0>\n"
     ]
    }
   ],
   "source": [
    "seq = inifinite_seq()\n",
    "print(next(seq))\n",
    "print(list(seq))\n",
    "print(seq)"
   ]
  },
  {
   "cell_type": "code",
   "execution_count": 39,
   "id": "7437b848",
   "metadata": {},
   "outputs": [],
   "source": [
    "def apply_model_in_batch(rows):\n",
    "    df = pd.DataFrame(rows, columns=columns)\n",
    "    predictions = model_predict(df)\n",
    "    df['predicted_duration'] = predictions\n",
    "\n",
    "    for row in df.itertuples():\n",
    "        yield row"
   ]
  },
  {
   "cell_type": "code",
   "execution_count": 40,
   "id": "580b5845",
   "metadata": {},
   "outputs": [],
   "source": [
    "df_predicts = duration_rdd \\\n",
    "    .mapPartitions(apply_model_in_batch)\\\n",
    "    .toDF() \\\n",
    "    .drop('Index')"
   ]
  },
  {
   "cell_type": "code",
   "execution_count": 75,
   "id": "6055d543",
   "metadata": {},
   "outputs": [
    {
     "name": "stdout",
     "output_type": "stream",
     "text": [
      "+------------------+\n",
      "|predicted_duration|\n",
      "+------------------+\n",
      "|26.099999999999998|\n",
      "|              4.35|\n",
      "|              3.15|\n",
      "|             13.55|\n",
      "|10.649999999999999|\n",
      "|             89.65|\n",
      "|120.19999999999999|\n",
      "|              7.25|\n",
      "|54.699999999999996|\n",
      "|              15.9|\n",
      "+------------------+\n",
      "only showing top 10 rows\n",
      "\n"
     ]
    }
   ],
   "source": [
    "df_predicts.select('predicted_duration').show(10)"
   ]
  },
  {
   "cell_type": "code",
   "execution_count": 52,
   "id": "9e91d243",
   "metadata": {},
   "outputs": [],
   "source": [
    "def apply_model_in_batch(partition):\n",
    "    cnt = 0\n",
    "    for row in partition:\n",
    "        cnt = cnt + 1\n",
    "    return [cnt]"
   ]
  },
  {
   "cell_type": "code",
   "execution_count": 54,
   "id": "391cc46c-9829-4f48-998e-ffd2c8466194",
   "metadata": {},
   "outputs": [
    {
     "data": {
      "text/plain": [
       "16"
      ]
     },
     "execution_count": 54,
     "metadata": {},
     "output_type": "execute_result"
    }
   ],
   "source": [
    "len(duration_rdd.mapPartitions(apply_model_in_batch).collect())\n",
    "# the number of partitions for duration_rdd"
   ]
  },
  {
   "cell_type": "code",
   "execution_count": null,
   "id": "e5ea0f19-2e59-4d84-9406-25faf35f7e8d",
   "metadata": {},
   "outputs": [],
   "source": []
  }
 ],
 "metadata": {
  "kernelspec": {
   "display_name": "Python 3 (ipykernel)",
   "language": "python",
   "name": "python3"
  },
  "language_info": {
   "codemirror_mode": {
    "name": "ipython",
    "version": 3
   },
   "file_extension": ".py",
   "mimetype": "text/x-python",
   "name": "python",
   "nbconvert_exporter": "python",
   "pygments_lexer": "ipython3",
   "version": "3.10.11"
  }
 },
 "nbformat": 4,
 "nbformat_minor": 5
}
